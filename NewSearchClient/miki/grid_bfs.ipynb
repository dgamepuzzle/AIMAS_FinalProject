{
 "cells": [
  {
   "cell_type": "code",
   "execution_count": 26,
   "metadata": {},
   "outputs": [
    {
     "name": "stdout",
     "output_type": "stream",
     "text": [
      "1 1 1 1 1 1 1 1 \n",
      "1 0 0 1 0 0 0 1 \n",
      "1 0 1 1 0 1 0 1 \n",
      "1 0 0 1 0 1 0 1 \n",
      "1 1 0 0 0 1 0 1 \n",
      "1 1 1 0 1 1 0 1 \n",
      "1 1 0 0 0 0 0 1 \n",
      "1 1 1 1 1 1 1 1 \n"
     ]
    }
   ],
   "source": [
    "walls = [\n",
    "    [True, True, True, True, True, True, True, True],\n",
    "    [True, False, False, True, False, False, False, True],\n",
    "    [True, False, True, True, False, True, False, True],\n",
    "    [True, False, False, True, False, True, False, True],\n",
    "    [True, True, False, False, False, True, False, True],\n",
    "    [True, True, True, False, True, True, False, True],\n",
    "    [True, True, False, False, False, False, False, True],\n",
    "    [True, True, True, True, True, True, True, True]\n",
    "]\n",
    "\n",
    "def print_grid(grid):\n",
    "    for row in grid:\n",
    "        row_str = [str(int(elem)) + ' ' for elem in row]\n",
    "        print(''.join(row_str))\n",
    "        \n",
    "print_grid(walls)"
   ]
  },
  {
   "cell_type": "code",
   "execution_count": 33,
   "metadata": {},
   "outputs": [
    {
     "name": "stdout",
     "output_type": "stream",
     "text": [
      "0 0 0 0 0 0 0 0 \n",
      "0 0 1 0 9 10 11 0 \n",
      "0 1 0 0 8 0 12 0 \n",
      "0 2 3 0 7 0 13 0 \n",
      "0 0 4 5 6 0 12 0 \n",
      "0 0 0 6 0 0 11 0 \n",
      "0 0 8 7 8 9 10 0 \n",
      "0 0 0 0 0 0 0 0 \n"
     ]
    }
   ],
   "source": [
    "def grid_bfs(walls, start_coords):\n",
    "    row_cnt = len(walls)\n",
    "    col_cnt = len(walls[0])\n",
    "    grid_dist = [[0 for j in range(col_cnt)] for i in range(row_cnt)]\n",
    "    \n",
    "    start = (start_coords[0], start_coords[1], 0)\n",
    "    frontier = [start]\n",
    "    visited = set()\n",
    "    offsets = ((0, 1), (1, 0), (-1, 0), (0, -1))\n",
    "    \n",
    "    while len(frontier) > 0:\n",
    "        current = frontier.pop(0)\n",
    "        grid_dist[current[0]][current[1]] = current[2]\n",
    "        \n",
    "        for offset in offsets:\n",
    "            x = current[0] + offset[0]\n",
    "            y = current[1] + offset[1]\n",
    "            \n",
    "            if (x < 0) or (x > row_cnt):\n",
    "                continue\n",
    "            if (y < 0) or (y > col_cnt):\n",
    "                continue            \n",
    "            if walls[x][y]:\n",
    "                continue\n",
    "                \n",
    "            candidate = (x, y, current[2]+1)\n",
    "            cand_check = (x, y)\n",
    "            \n",
    "            if cand_check not in visited:\n",
    "                frontier.append(candidate)\n",
    "            \n",
    "        visited.add((current[0], current[1]))\n",
    "    \n",
    "    return grid_dist\n",
    "\n",
    "goal_coords = (1, 1)\n",
    "\n",
    "print_grid(grid_bfs(walls, goal_coords))\n",
    "    "
   ]
  },
  {
   "cell_type": "code",
   "execution_count": 14,
   "metadata": {},
   "outputs": [
    {
     "data": {
      "text/plain": [
       "inf"
      ]
     },
     "execution_count": 14,
     "metadata": {},
     "output_type": "execute_result"
    }
   ],
   "source": [
    "def get_distance(walls, start_coords, end_coords):\n",
    "    row_cnt = len(walls)\n",
    "    col_cnt = len(walls[0])\n",
    "    grid_dist = [[0 for j in range(col_cnt)] for i in range(row_cnt)]\n",
    "    \n",
    "    start = (start_coords[0], start_coords[1], 0)\n",
    "    frontier = [start]\n",
    "    visited = set()\n",
    "    offsets = ((0, 1), (1, 0), (-1, 0), (0, -1))\n",
    "    \n",
    "    while len(frontier) > 0:\n",
    "        current = frontier.pop(0)\n",
    "        \n",
    "        if current[0] == end_coords[0] and current[1] == end_coords[1]:\n",
    "            return current[2]\n",
    "        \n",
    "        for offset in offsets:\n",
    "            x = current[0] + offset[0]\n",
    "            y = current[1] + offset[1]\n",
    "            \n",
    "            if (x < 0) or (x > row_cnt):\n",
    "                continue\n",
    "            if (y < 0) or (y > col_cnt):\n",
    "                continue            \n",
    "            if walls[x][y]:\n",
    "                continue\n",
    "                \n",
    "            candidate = (x, y, current[2]+1)\n",
    "            cand_check = (x, y)\n",
    "            \n",
    "            if cand_check not in visited:\n",
    "                frontier.append(candidate)\n",
    "            \n",
    "        visited.add((current[0], current[1]))\n",
    "    \n",
    "    return float('inf')\n",
    "\n",
    "start_coords = (1, 1)\n",
    "end_coords = (4, 7)\n",
    "\n",
    "get_distance(walls, start_coords, end_coords)\n",
    "    "
   ]
  },
  {
   "cell_type": "code",
   "execution_count": 34,
   "metadata": {},
   "outputs": [
    {
     "data": {
      "text/plain": [
       "[12, 11, 0, 3]"
      ]
     },
     "execution_count": 34,
     "metadata": {},
     "output_type": "execute_result"
    }
   ],
   "source": [
    "def get_distance_one_to_many(walls, start_coords, end_coords_array):\n",
    "    row_cnt = len(walls)\n",
    "    col_cnt = len(walls[0])\n",
    "\n",
    "    distances = [float('inf') for i in range(len(end_coords_array))]\n",
    "    cnt_found = 0\n",
    "    \n",
    "    start = (start_coords[0], start_coords[1], 0)\n",
    "    frontier = [start]\n",
    "    visited = set()\n",
    "    offsets = ((0, 1), (1, 0), (-1, 0), (0, -1))\n",
    "    \n",
    "    while len(frontier) > 0:\n",
    "        current = frontier.pop(0)\n",
    "        \n",
    "        if current[0:2] in end_coords_array:\n",
    "            end_coord_idx = end_coords_array.index(current[0:2])\n",
    "            distances[end_coord_idx] = current[2]\n",
    "            cnt_found += 1\n",
    "            if cnt_found >= len(end_coords_array):\n",
    "                return distances\n",
    "        \n",
    "        for offset in offsets:\n",
    "            x = current[0] + offset[0]\n",
    "            y = current[1] + offset[1]\n",
    "            \n",
    "            if (x < 0) or (x > row_cnt):\n",
    "                continue\n",
    "            if (y < 0) or (y > col_cnt):\n",
    "                continue            \n",
    "            if walls[x][y]:\n",
    "                continue\n",
    "                \n",
    "            candidate = (x, y, current[2]+1)\n",
    "            cand_check = (x, y)\n",
    "            \n",
    "            if cand_check not in visited:\n",
    "                frontier.append(candidate)\n",
    "            \n",
    "        visited.add((current[0], current[1]))\n",
    "    \n",
    "    return distances\n",
    "\n",
    "start_coords = (1, 1)\n",
    "end_coords_array = [(4, 6), (5, 6), (1, 1), (3, 2)]\n",
    "\n",
    "get_distance_one_to_many(walls, start_coords, end_coords_array)\n",
    "    "
   ]
  },
  {
   "cell_type": "code",
   "execution_count": 20,
   "metadata": {},
   "outputs": [
    {
     "data": {
      "text/plain": [
       "[(1, 1), (2, 2)]"
      ]
     },
     "execution_count": 20,
     "metadata": {},
     "output_type": "execute_result"
    }
   ],
   "source": [
    "x = (1, 2, 3)\n",
    "\n",
    "y = [(1, 1), (2, 2), (1, 2), (3, 2)]\n",
    "\n",
    "x[0:2] in y\n",
    "\n",
    "out_tup = [i for i in y if i != x[0:2]]\n",
    "out_tup"
   ]
  },
  {
   "cell_type": "code",
   "execution_count": 22,
   "metadata": {},
   "outputs": [
    {
     "data": {
      "text/plain": [
       "2"
      ]
     },
     "execution_count": 22,
     "metadata": {},
     "output_type": "execute_result"
    }
   ],
   "source": [
    "y.index(x[0:2])"
   ]
  },
  {
   "cell_type": "code",
   "execution_count": null,
   "metadata": {},
   "outputs": [],
   "source": []
  }
 ],
 "metadata": {
  "kernelspec": {
   "display_name": "Python 3",
   "language": "python",
   "name": "python3"
  },
  "language_info": {
   "codemirror_mode": {
    "name": "ipython",
    "version": 3
   },
   "file_extension": ".py",
   "mimetype": "text/x-python",
   "name": "python",
   "nbconvert_exporter": "python",
   "pygments_lexer": "ipython3",
   "version": "3.7.4"
  }
 },
 "nbformat": 4,
 "nbformat_minor": 4
}
